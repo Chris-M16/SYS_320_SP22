{
 "cells": [
  {
   "cell_type": "markdown",
   "metadata": {},
   "source": [
    "# Main code to run SSH through Python"
   ]
  },
  {
   "cell_type": "code",
   "execution_count": null,
   "metadata": {},
   "outputs": [],
   "source": [
    "# Using SSH via Python\n",
    "\n",
    "import paramiko\n",
    "from getpass import getpass\n",
    "import os\n",
    "import sys\n",
    "\n",
    "# Create the file prompt\n",
    "theFile = input(\"Please enter the desired file for the output \")\n",
    "\n",
    "# Little test to make sure there is actual input\n",
    "if theFile == \"\":\n",
    "    sys.exit(\"No response detected. Stopping code.\")\n",
    "else:\n",
    "    pass\n",
    "\n",
    "# Check that theFile exists in local directory\n",
    "if os.path.exists(theFile) == True:\n",
    "    changeFile = input('The specified file already exists.  |  Would you like to replace this file removing the previous one?(yes/no) ')\n",
    "\n",
    "    # Following if,elif,else statement determines what to do with theFile based on users input\n",
    "    if changeFile.lower() == \"no\":\n",
    "        sys.exit(\"Okay the file will remain intact and the code will stop.\")\n",
    "\n",
    "    elif changeFile.lower() == \"yes\":\n",
    "        os.remove(theFile)\n",
    "        pass\n",
    "\n",
    "    else:\n",
    "        sys.exit(\"No response detected. Stopping code.\")\n",
    "        \n",
    "# If it does not exist continue like usual\n",
    "else:\n",
    "    pass\n",
    "\n",
    "# Create the password prompt\n",
    "thePass = getpass(prompt=\"Please enter your SSH password: \")\n",
    "\n",
    "# Host information\n",
    "host = \"192.168.6.71\"\n",
    "port = 2222\n",
    "username = \"christopher.mchugh\"\n",
    "password = thePass\n",
    "\n",
    "try:\n",
    "\n",
    "    ssh = paramiko.SSHClient()\n",
    "    ssh.set_missing_host_key_policy(paramiko.AutoAddPolicy())\n",
    "    ssh.connect(host, port, username, password)\n",
    "\n",
    "except paramiko.AuthenticationException:\n",
    "    print(\"Authentication Failed.\")\n",
    "\n"
   ]
  },
  {
   "cell_type": "markdown",
   "metadata": {},
   "source": [
    "### Send a file to remote device"
   ]
  },
  {
   "cell_type": "code",
   "execution_count": null,
   "metadata": {},
   "outputs": [],
   "source": [
    "# Start SFTP session\n",
    "sftp = ssh.open_sftp()\n",
    "\n",
    "# User variables to make code more applicable\n",
    "theLocation = input(\"What is the full path to the file you want to transfer? \")\n",
    "theName = input(\"What would you like the name of this file to be on the remote device? \")\n",
    "\n",
    "# Upload the file to the remote device\n",
    "sftp.put(theLocation,'/home/christopher.mchugh/'+theName)"
   ]
  },
  {
   "cell_type": "markdown",
   "metadata": {},
   "source": [
    "### Run a command using sudo"
   ]
  },
  {
   "cell_type": "code",
   "execution_count": null,
   "metadata": {},
   "outputs": [],
   "source": [
    "# loads sftp\n",
    "sftp = ssh.open_sftp()\n",
    "\n",
    "# gathers user input\n",
    "command = input(\"What command would you like to run with elevated permission?\")\n",
    "\n",
    "\n",
    "# Get the output from the command\n",
    "stdin, stdout, stderr = ssh.exec_command('sudo -S '+command)\n",
    "\n",
    "# used to pass through password for sudo and 'hit' enter\n",
    "stdin.write(thePass+\"\\n\")\n",
    "\n",
    "# Get results from stdout\n",
    "lines = stdout.readlines()\n",
    "\n",
    "# Convert the list to a string\n",
    "output = ''.join(lines)\n",
    "\n",
    "# Save the output to a file\n",
    "with open(theFile, 'a') as f:\n",
    "    f.write(output)\n",
    "\n",
    "#ssh.close()"
   ]
  },
  {
   "cell_type": "markdown",
   "metadata": {},
   "source": [
    "### Outputs the contents of the home directory"
   ]
  },
  {
   "cell_type": "code",
   "execution_count": null,
   "metadata": {},
   "outputs": [],
   "source": [
    "# Loads sftp\n",
    "sftp = ssh.open_sftp()\n",
    "\n",
    "# stores the command\n",
    "command = 'sudo -S dir'\n",
    "\n",
    "# Get the output from the command\n",
    "stdin, stdout, stderr = ssh.exec_command(command)\n",
    "\n",
    "# input password to run command as sudo, including a newline\n",
    "# character that provides \"Enter\" as if you were typing it on a keyboard\n",
    "stdin.write(thePass+\"\\n\")\n",
    "\n",
    "# Get results from stdout\n",
    "lines = stdout.readlines()\n",
    "print(lines)\n",
    "\n",
    "# Convert the list to a string\n",
    "output = ''.join(lines)\n",
    "\n",
    "# Save the output to a file\n",
    "with open(theFile, 'a') as f:\n",
    "    f.write(output)"
   ]
  },
  {
   "cell_type": "markdown",
   "metadata": {},
   "source": [
    "### Downloads File\n"
   ]
  },
  {
   "cell_type": "code",
   "execution_count": null,
   "metadata": {},
   "outputs": [],
   "source": [
    "# Loads sftp\n",
    "sftp = ssh.open_sftp()\n",
    "\n",
    "# creates user variables \n",
    "downFile = input('What is the full path of the file you wish to download? ')\n",
    "nameFile = input ('What do you want to name the file? ')\n",
    "\n",
    "# Gets the file\n",
    "sftp.get(downFile,'Suspicious/'+nameFile)"
   ]
  },
  {
   "cell_type": "markdown",
   "metadata": {},
   "source": [
    "### Remove File from Home directory"
   ]
  },
  {
   "cell_type": "code",
   "execution_count": null,
   "metadata": {},
   "outputs": [],
   "source": [
    "# Start sftp session\n",
    "sftp = ssh.open_sftp()\n",
    "\n",
    "# User input for file to remove\n",
    "rmFile = input('What file would you like to remove? ')\n",
    "\n",
    "# command\n",
    "removecommand = 'sudo -S rm -f '+rmFile\n",
    "\n",
    "# Get the output from the command\n",
    "stdin, stdout, stderr = ssh.exec_command(removecommand)\n",
    "\n",
    "# input password to run command as sudo, including a newline\n",
    "# character that provides \"Enter\" as if you were typing it on a keyboard\n",
    "stdin.write(thePass+\"\\n\")\n",
    "\n",
    "#ssh.close()\n"
   ]
  },
  {
   "cell_type": "markdown",
   "metadata": {},
   "source": [
    "### Search through specified files for all exploitation commands"
   ]
  },
  {
   "cell_type": "code",
   "execution_count": null,
   "metadata": {},
   "outputs": [],
   "source": [
    "import re\n",
    "# All exploitation commands\n",
    "cmds = {'blind_files' : ['/etc/resolv.conf','/etc/issue','etc/passwd','/etc/shadow','/home/'+username+'.bash_history'],\n",
    "        'system' : ['uname -a','ps aux','id','arch','who -a','perl -v','df -k','mount','last -a','lastlog','dmesg','lspci','lscpu','lshw','/proc/cpuinfo','/proc/meminfo'],\n",
    "        'networking' : ['hostname -f','ip addr show','ip ro show','iptables -L -n -v','iptables-save',' /proc/net/*'],\n",
    "        'user_accounts' : ['/etc/passwd','/etc/shadow','/etc/group','getemt passwd','getent group'],\n",
    "        'obt_user_info' : ['ls -alh /home/*/','ls -alh /home/*/.ssh/','/home/*/.viminfo','sudo -l','crontab -l'],\n",
    "        'credentials' : ['/home/*/.ssh/id*','/tmp/krb5cc_*','/tmp/krb5.keytab','/home/*/.gnupg/secring.gpgs'],\n",
    "        'configs' : [\"ls -aRl /etc/ * awk '$1 ~ /w.$/' * grep -v lwrx 2> /dev/nullte\",'/etc/group','/etc/hosts','/etc/crontab','/etc/sysctl.conf','/etc/resolv.conf','/etc/ldap/ldap.conf','cat /etc/fstab'],\n",
    "        'determine_distro' : ['uname -a','lsb_release -d','/etc/os-release','/etc/issue','/etc/*release','/etc/debian_version','arch'],\n",
    "        'installed_packages' : ['dpkg -l','dpkg -l | grep -i \"linux-image\"','dpkg --get-selections'],\n",
    "        'package_sources' : ['/etc/apt/sources.list'],\n",
    "        'find_important_files' : ['ls -alR | grep ^d','find /var -type -d','ls -dl `find /var -type d`','find /var -type d` | grep -v root','find /var ! -user root -type d -ls','find / -perm -4000','ls -alhtr /mnt','ls -alhtr /media','ls -alhtr /tmp','ls -alhtr /home',\"find /home -type f -iname '.*history'\",\"find /sbin /user/sbin /opt /lib `echo $PATH | 'sed s/:/ /g'` -perm /6000 -ls\"],\n",
    "}\n",
    "\n",
    "# List of the three files to search through\n",
    "files = ['deepDive/auth','deepDive/ps','deepDive/passwd']\n",
    "\n",
    "# loop through the files listed above\n",
    "for file in files:\n",
    "        # Open a file\n",
    "    with open(file) as f:\n",
    "\n",
    "        # read in the file and save it to a variable\n",
    "        contents = f.readlines()\n",
    "\n",
    "    # Lists to store the results\n",
    "    results = []\n",
    "    # Loop through the list returned. Each element is a line from the smallSyslog file\n",
    "    for line in contents:\n",
    "\n",
    "        # The or if and for below are used to work with values inside of the dictionary.\n",
    "        for key, values in cmds.items():\n",
    "                #print (key)\n",
    "                if(isinstance(values, list)):\n",
    "                        for value in values:\n",
    "                                #print (value)\n",
    "\n",
    "                                # Search for the value in the line\n",
    "                                x = re.findall(r''+value+'', line)\n",
    "\n",
    "                                # For each value found in the above \n",
    "                                for found in x:\n",
    "\n",
    "                                        # Append the returned keywords the the results list\n",
    "                                        results.append(line)\n",
    "                else:\n",
    "                        print(value)\n",
    "# Return results\n",
    "print(results)"
   ]
  }
 ],
 "metadata": {
  "interpreter": {
   "hash": "fb5c8fc0dda72fe3e34dba1ceaeff20bd5610d9d89fea84c1a6da23fee2435b6"
  },
  "kernelspec": {
   "display_name": "Python 3.10.2 64-bit",
   "language": "python",
   "name": "python3"
  },
  "language_info": {
   "codemirror_mode": {
    "name": "ipython",
    "version": 3
   },
   "file_extension": ".py",
   "mimetype": "text/x-python",
   "name": "python",
   "nbconvert_exporter": "python",
   "pygments_lexer": "ipython3",
   "version": "3.10.2"
  },
  "orig_nbformat": 4
 },
 "nbformat": 4,
 "nbformat_minor": 2
}
