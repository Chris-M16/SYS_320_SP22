{
 "cells": [
  {
   "cell_type": "code",
   "execution_count": 1,
   "metadata": {},
   "outputs": [],
   "source": [
    "# Using SSH via Python\n",
    "\n",
    "import paramiko\n",
    "from getpass import getpass\n",
    "import os\n",
    "import sys\n",
    "\n",
    "# Create the file prompt\n",
    "theFile = input(\"Please enter the desired file for the output \")\n",
    "\n",
    "# Little test to make sure there is actual input\n",
    "if theFile == \"\":\n",
    "    sys.exit(\"No response detected. Stopping code.\")\n",
    "else:\n",
    "    pass\n",
    "\n",
    "# Check that theFile exists in local directory\n",
    "if os.path.exists(theFile) == True:\n",
    "    changeFile = input('The specified file already exists.  |  Would you like to replace this file removing the previous one?(yes/no) ')\n",
    "\n",
    "    # Following if,elif,else statement determines what to do with theFile based on users input\n",
    "    if changeFile.lower() == \"no\":\n",
    "        sys.exit(\"Okay the file will remain intact and the code will stop.\")\n",
    "\n",
    "    elif changeFile.lower() == \"yes\":\n",
    "        os.remove(theFile)\n",
    "        pass\n",
    "\n",
    "    else:\n",
    "        sys.exit(\"No response detected. Stopping code.\")\n",
    "        \n",
    "# If it does not exist continue like usual\n",
    "else:\n",
    "    pass\n",
    "\n",
    "# Create the password prompt\n",
    "thePass = getpass(prompt=\"Please enter your SSH password: \")\n",
    "\n",
    "# Host information\n",
    "host = \"192.168.6.71\"\n",
    "port = 2222\n",
    "username = \"christopher.mchugh\"\n",
    "password = thePass\n",
    "\n",
    "try:\n",
    "\n",
    "    ssh = paramiko.SSHClient()\n",
    "    ssh.set_missing_host_key_policy(paramiko.AutoAddPolicy())\n",
    "    ssh.connect(host, port, username, password)\n",
    "\n",
    "except paramiko.AuthenticationException:\n",
    "    print(\"Authentication Failed.\")\n"
   ]
  },
  {
   "cell_type": "code",
   "execution_count": 3,
   "metadata": {},
   "outputs": [
    {
     "data": {
      "text/plain": [
       "<SFTPAttributes: [ size=0 uid=1286604063 gid=1286603265 mode=0o100644 atime=1646515049 mtime=1646515049 ]>"
      ]
     },
     "execution_count": 3,
     "metadata": {},
     "output_type": "execute_result"
    }
   ],
   "source": [
    "# Start SFTP session\n",
    "sftp = ssh.open_sftp()\n",
    "\n",
    "# Upload the script to the remote device\n",
    "sftp.put('C:/Users/Christopher/Desktop/School/SYS_320_SP22/Week07/homework/yara.txt',\"/home/christopher.mchugh/yara.txt\")"
   ]
  },
  {
   "cell_type": "code",
   "execution_count": 2,
   "metadata": {},
   "outputs": [],
   "source": [
    "sftp = ssh.open_sftp()\n",
    "# Run a command\n",
    "command = 'sudo -S kraken --rules yara.txt --folder /usr/bin --folder  --folder /usr/sbin/   --folder /usr/local/bin  --folder /sbin  --folder /usr/local/sbin  --folder /bin >> '+theFile\n",
    "\n",
    "# Get the output from the command\n",
    "stdin, stdout, stderr = ssh.exec_command(command)\n",
    "\n",
    "# input password to run command as sudo, including a newline\n",
    "# character that provides \"Enter\" as if you were typing it on a keyboard\n",
    "stdin.write(thePass+\"\\n\")\n",
    "\n",
    "# Get results from stdout\n",
    "lines = stdout.readlines()\n",
    "#print(lines)\n",
    "\n",
    "# Convert the list to a string\n",
    "output = ''.join(lines)\n",
    "\n",
    "# Save the output to a file\n",
    "with open(theFile, 'a') as f:\n",
    "    f.write(output)\n",
    "#print(cmd_output)\n",
    "sftp.get('/home/christopher.mchugh/'+theFile,theFile)\n",
    "ssh.close()\n"
   ]
  },
  {
   "cell_type": "code",
   "execution_count": 12,
   "metadata": {},
   "outputs": [],
   "source": [
    "# All exploitation commands\n",
    "cmds = {'blind_files' : ['cat /etc/resolv.conf','cat /etc/issue','cat etc/passwd','sudo -s cat /etc/shadow','cat /home/'+username+'.bash_history'],\n",
    "        'system' : ['uname -a','ps aux','id','arch','w','who -a','perl -v','df -k','mount','last -a','lastlog','dmesg','lspci','lscpu','lshw','cat /proc/cpuinfo','cat/proc/meminfo'],\n",
    "        'networking' : ['hostname -f','ip addr show','ip ro show','sudo -s iptables -L -n -v','sudo -s iptables-save','cat /proc/net/*'],\n",
    "        'user_accounts' : ['cat /etc/passwd','sudo -s cat /etc/shadow','cat /etc/group','getemt passwd','getent group'],\n",
    "        'obt_user_info' : ['ls -alh /home/*/','ls -alh /home/*/.ssh/','sudo -s cat /home/*/.viminfo','sudo -l','crontab -l'],\n",
    "        'credentials' : [''],\n",
    "        'configs' : [\"sudo -s ls -aRl /etc/ * awk '$1 ~ /w.$/' * grep -v lwrx 2> sudo /dev/nullte\",'cat /etc/group','cat /etc/hosts','cat /etc/crontab','cat /etc/sysctl.conf','cat /etc/resolv.conf','cat /etc/ldap/ldap.conf','cat /etc/fstab'],\n",
    "        'determine_distro' : ['uname -a','lsb_release -d','cat /etc/os-release','cat /etc/issue','cat /etc/*release','cat /etc/debian_version','arch'],\n",
    "        'installed_packages' : ['dpkg -l','dpkg -l | grep -i \"linux-image\"','dpkg --get-selections'],\n",
    "        'package_sources' : ['cat /etc/apt/sources.list'],\n",
    "        'find_important_files' : ['ls -alR | grep ^d','find /var -type -d','ls -dl `find /var -type d`','find /var -type d` | grep -v root','find /var ! -user root -type d -ls','sudo -s find / -perm -4000','ls -alhtr /mnt','ls -alhtr /media','ls -alhtr /tmp','ls -alhtr /home',\"sudo -s find /home -type f -iname '.*history'\",\"find /sbin /user/sbin /opt /lib `echo $PATH | 'sed s/:/ /g'` -perm /6000 -ls\"],\n",
    "}\n"
   ]
  }
 ],
 "metadata": {
  "interpreter": {
   "hash": "fb5c8fc0dda72fe3e34dba1ceaeff20bd5610d9d89fea84c1a6da23fee2435b6"
  },
  "kernelspec": {
   "display_name": "Python 3.10.2 64-bit",
   "language": "python",
   "name": "python3"
  },
  "language_info": {
   "codemirror_mode": {
    "name": "ipython",
    "version": 3
   },
   "file_extension": ".py",
   "mimetype": "text/x-python",
   "name": "python",
   "nbconvert_exporter": "python",
   "pygments_lexer": "ipython3",
   "version": "3.10.2"
  },
  "orig_nbformat": 4
 },
 "nbformat": 4,
 "nbformat_minor": 2
}
