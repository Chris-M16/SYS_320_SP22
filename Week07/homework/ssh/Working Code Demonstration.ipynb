{
 "cells": [
  {
   "cell_type": "code",
   "execution_count": 15,
   "metadata": {},
   "outputs": [
    {
     "data": {
      "text/plain": [
       "<module 'LinuxLogSSH' from 'c:\\\\Users\\\\Christopher\\\\Desktop\\\\School\\\\SYS_320_SP22\\\\Week07\\\\homework\\\\ssh\\\\LinuxLogSSH.py'>"
      ]
     },
     "execution_count": 15,
     "metadata": {},
     "output_type": "execute_result"
    }
   ],
   "source": [
    "import LinuxLogSSH\n",
    "import importlib\n",
    "importlib.reload(LinuxLogSSH)"
   ]
  },
  {
   "cell_type": "markdown",
   "metadata": {},
   "source": [
    "# Reviewing Linux Logs"
   ]
  },
  {
   "cell_type": "markdown",
   "metadata": {},
   "source": [
    "### SSH Users Authenticated"
   ]
  },
  {
   "cell_type": "code",
   "execution_count": 16,
   "metadata": {},
   "outputs": [
    {
     "name": "stdout",
     "output_type": "stream",
     "text": [
      "p.dalton\n",
      "blaise.notter\n",
      "eli.minkoff\n",
      "ubuntu\n",
      "thomas.autiello\n",
      "noah.stiles\n",
      "emily.crawford\n",
      "samuel.johnson01\n",
      "sebastian.meredith\n",
      "duane.dunston\n",
      "christopher.mchugh\n"
     ]
    }
   ],
   "source": [
    "LinuxLogSSH.ssh_success('../deepDive/Last',['sshd.* session opened for user .*'])"
   ]
  }
 ],
 "metadata": {
  "interpreter": {
   "hash": "8fa8db45c6341d4c26f24dc8381e2c3c432060d26e2837089ffdef2b93d69026"
  },
  "kernelspec": {
   "display_name": "Python 3.9.10 64-bit (windows store)",
   "language": "python",
   "name": "python3"
  },
  "language_info": {
   "codemirror_mode": {
    "name": "ipython",
    "version": 3
   },
   "file_extension": ".py",
   "mimetype": "text/x-python",
   "name": "python",
   "nbconvert_exporter": "python",
   "pygments_lexer": "ipython3",
   "version": "3.10.2"
  },
  "orig_nbformat": 4
 },
 "nbformat": 4,
 "nbformat_minor": 2
}
