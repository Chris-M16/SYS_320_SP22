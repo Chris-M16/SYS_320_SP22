{
 "cells": [
  {
   "cell_type": "code",
   "execution_count": 24,
   "metadata": {},
   "outputs": [
    {
     "data": {
      "text/plain": [
       "<module 'AttackLog' from 'c:\\\\Users\\\\chris\\\\Desktop\\\\SYS320\\\\SYS_320_SP22\\\\Week04\\\\homework\\\\AttackLog.py'>"
      ]
     },
     "execution_count": 24,
     "metadata": {},
     "output_type": "execute_result"
    }
   ],
   "source": [
    "import AttackLog\n",
    "import importlib\n",
    "import Check\n",
    "importlib.reload(Check)\n",
    "importlib.reload(AttackLog)"
   ]
  },
  {
   "cell_type": "code",
   "execution_count": 25,
   "metadata": {},
   "outputs": [
    {
     "name": "stdout",
     "output_type": "stream",
     "text": [
      "[22/Jan/2022:11:24:39 90.156.8.174 -\n",
      "[22/Jan/2022:11:24:53 90.156.8.174 -\n",
      "[22/Jan/2022:11:26:49 90.156.8.174 -\n",
      "[22/Jan/2022:11:25:00 90.156.8.174 -\n",
      "[22/Jan/2022:11:26:33 90.156.8.174 -\n",
      "[22/Jan/2022:11:25:05 90.156.8.174 -\n",
      "[22/Jan/2022:11:26:30 90.156.8.174 -\n",
      "[22/Jan/2022:01:18:54 216.93.144.47 -\n",
      "[22/Jan/2022:11:24:56 90.156.8.174 -\n",
      "[22/Jan/2022:11:26:43 90.156.8.174 -\n",
      "[22/Jan/2022:11:26:24 90.156.8.174 -\n",
      "[22/Jan/2022:11:25:03 90.156.8.174 -\n",
      "[22/Jan/2022:11:25:02 90.156.8.174 -\n",
      "[22/Jan/2022:01:20:49 216.93.144.47 -\n",
      "[22/Jan/2022:11:26:50 90.156.8.174 -\n",
      "[22/Jan/2022:11:24:54 90.156.8.174 -\n",
      "[22/Jan/2022:11:24:38 90.156.8.174 -\n",
      "[22/Jan/2022:11:24:42 90.156.8.174 -\n",
      "[22/Jan/2022:11:24:48 90.156.8.174 -\n",
      "[22/Jan/2022:11:24:40 90.156.8.174 -\n",
      "[22/Jan/2022:11:26:52 90.156.8.174 -\n",
      "[22/Jan/2022:11:24:41 90.156.8.174 -\n",
      "[22/Jan/2022:11:24:59 90.156.8.174 -\n",
      "[22/Jan/2022:11:26:28 90.156.8.174 -\n",
      "[22/Jan/2022:11:24:46 90.156.8.174 -\n",
      "[22/Jan/2022:11:26:29 90.156.8.174 -\n",
      "[22/Jan/2022:11:26:32 90.156.8.174 -\n",
      "[22/Jan/2022:11:24:57 90.156.8.174 -\n",
      "[22/Jan/2022:11:26:56 90.156.8.174 -\n",
      "[22/Jan/2022:11:24:51 90.156.8.174 -\n",
      "[22/Jan/2022:11:26:48 90.156.8.174 -\n",
      "[22/Jan/2022:11:26:23 90.156.8.174 -\n",
      "[22/Jan/2022:11:25:04 90.156.8.174 -\n",
      "[22/Jan/2022:11:24:44 90.156.8.174 -\n",
      "[22/Jan/2022:11:26:53 90.156.8.174 -\n",
      "[22/Jan/2022:11:24:35 90.156.8.174 -\n"
     ]
    }
   ],
   "source": [
    "AttackLog.attacks('../../logs/week4-weblogs/access1.log','SQL')"
   ]
  }
 ],
 "metadata": {
  "interpreter": {
   "hash": "8fa8db45c6341d4c26f24dc8381e2c3c432060d26e2837089ffdef2b93d69026"
  },
  "kernelspec": {
   "display_name": "Python 3.9.10 64-bit (windows store)",
   "language": "python",
   "name": "python3"
  },
  "language_info": {
   "codemirror_mode": {
    "name": "ipython",
    "version": 3
   },
   "file_extension": ".py",
   "mimetype": "text/x-python",
   "name": "python",
   "nbconvert_exporter": "python",
   "pygments_lexer": "ipython3",
   "version": "3.9.10"
  },
  "orig_nbformat": 4
 },
 "nbformat": 4,
 "nbformat_minor": 2
}
