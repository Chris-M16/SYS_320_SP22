{
 "cells": [
  {
   "cell_type": "code",
   "execution_count": 56,
   "metadata": {},
   "outputs": [
    {
     "data": {
      "text/plain": [
       "<module 'ProxyLogyaml' from 'c:\\\\Users\\\\chris\\\\Desktop\\\\SYS320\\\\SYS_320_SP22\\\\Week02\\\\homework\\\\ProxyLogyaml.py'>"
      ]
     },
     "execution_count": 56,
     "metadata": {},
     "output_type": "execute_result"
    }
   ],
   "source": [
    "import ProxyLogQQinfo\n",
    "import ProxyLogQQopen\n",
    "import importlib\n",
    "import ProxyLogyaml\n",
    "importlib.reload(ProxyLogQQinfo)\n",
    "importlib.reload(ProxyLogQQopen)\n",
    "importlib.reload(ProxyLogyaml)"
   ]
  },
  {
   "cell_type": "markdown",
   "metadata": {},
   "source": [
    "# Apache/Proxy Log Events"
   ]
  },
  {
   "cell_type": "markdown",
   "metadata": {},
   "source": [
    "### Proxy QQ ... .exe Information"
   ]
  },
  {
   "cell_type": "code",
   "execution_count": 57,
   "metadata": {},
   "outputs": [
    {
     "name": "stdout",
     "output_type": "stream",
     "text": [
      "Format:\n",
      "Filename - Host - Bytes Sent - Bytes Receieved\n",
      "\n",
      "QQ.exe - tcpconn.tencent.com:80 close -  133 bytes sent -  0 bytes received\n",
      "QQ.exe - qqmail.tencent.com:80 close -  336 bytes sent -  2854 bytes (2.78 KB) received\n",
      "QQ.exe - showxml.qq.com:80 close -  600 bytes sent -  1716 bytes (1.67 KB) received\n",
      "QQ.exe - tcpconn3.tencent.com:443 close -  149 bytes sent -  121 bytes received\n",
      "QQ.exe - tcpconn6.tencent.com:443 close -  0 bytes sent -  0 bytes received\n",
      "QQ.exe - tcpconn6.tencent.com:80 close -  0 bytes sent -  0 bytes received\n",
      "QQProtectUpd.exe - qdun-data.qq.com:443 close -  261 bytes sent -  70 bytes received\n",
      "QQExternal.exe - proxy.cse.cuhk.edu.hk:5070 close -  1644 bytes (1.60 KB) sent -  388 bytes received\n",
      "QQ.exe - 2052.flash2-http.qq.com:80 close -  466 bytes sent -  125682 bytes (122 KB) received\n",
      "QQ.exe - cgi.qqweb.qq.com:80 close -  477 bytes sent -  448 bytes received\n",
      "QQ.exe - tcpconn3.tencent.com:80 close -  0 bytes sent -  0 bytes received\n"
     ]
    }
   ],
   "source": [
    "ProxyLogQQinfo.QQ_close('../../logs/Proxifier_2k.log',['QQ.*.exe.* close,.*'])"
   ]
  },
  {
   "cell_type": "markdown",
   "metadata": {},
   "source": [
    "### Proxy QQ File Open Proxy"
   ]
  },
  {
   "cell_type": "code",
   "execution_count": 58,
   "metadata": {},
   "outputs": [
    {
     "name": "stdout",
     "output_type": "stream",
     "text": [
      "Format:\n",
      "Filename - Host - Proxy - Protocol\n",
      "\n",
      "QQ.exe - tcpconn6.tencent.com:443 - proxy.cse.cuhk.edu.hk:5070 - HTTPS\n",
      "QQ.exe - cgi.qqweb.qq.com:80 - proxy.cse.cuhk.edu.hk:5070 - HTTPS\n",
      "QQ.exe - tcpconn6.tencent.com:80 - proxy.cse.cuhk.edu.hk:5070 - HTTPS\n",
      "QQ.exe - tcpconn3.tencent.com:443 - proxy.cse.cuhk.edu.hk:5070 - HTTPS\n",
      "QQPlayer.exe - btrace.qq.com:80 - proxy.cse.cuhk.edu.hk:5070 - HTTPS\n",
      "QQ.exe - 183.60.49.182:443 - proxy.cse.cuhk.edu.hk:5070 - HTTPS\n",
      "QQProtectUpd.exe - qdun-data.qq.com:443 - proxy.cse.cuhk.edu.hk:5070 - HTTPS\n",
      "QQ.exe - tcpconn.tencent.com:80 - proxy.cse.cuhk.edu.hk:5070 - HTTPS\n"
     ]
    }
   ],
   "source": [
    "ProxyLogQQopen.QQ_open('../../logs/Proxifier_2k.log',['QQ.* - .* open through proxy.*'])"
   ]
  },
  {
   "cell_type": "markdown",
   "metadata": {},
   "source": [
    "### YAML Proxy Open"
   ]
  },
  {
   "cell_type": "code",
   "execution_count": 59,
   "metadata": {},
   "outputs": [
    {
     "name": "stdout",
     "output_type": "stream",
     "text": [
      "QQ.exe - tcpconn3.tencent.com:443\n",
      "QQ.exe - 183.60.49.182:443\n",
      "QQ.exe - tcpconn6.tencent.com:80\n",
      "QQProtectUpd.exe - qdun-data.qq.com:443\n",
      "QQ.exe - cgi.qqweb.qq.com:80\n",
      "QQ.exe - tcpconn.tencent.com:80\n",
      "QQ.exe - tcpconn6.tencent.com:443\n",
      "QQPlayer.exe - btrace.qq.com:80\n"
     ]
    }
   ],
   "source": [
    "ProxyLogyaml.proxy_events('../../logs/Proxifier_2k.log','proxy','QQopen')"
   ]
  },
  {
   "cell_type": "markdown",
   "metadata": {},
   "source": [
    "### YAML Proxy Info"
   ]
  },
  {
   "cell_type": "code",
   "execution_count": 60,
   "metadata": {},
   "outputs": [
    {
     "name": "stdout",
     "output_type": "stream",
     "text": [
      "QQExternal.exe - proxy.cse.cuhk.edu.hk:5070\n",
      "QQ.exe - tcpconn3.tencent.com:443\n",
      "QQ.exe - tcpconn3.tencent.com:80\n",
      "QQ.exe - tcpconn6.tencent.com:80\n",
      "QQ.exe - tcpconn4.tencent.com:80\n",
      "QQ.exe - showxml.qq.com:80\n",
      "QQProtectUpd.exe - qdun-data.qq.com:443\n",
      "QQ.exe - cgi.qqweb.qq.com:80\n",
      "QQ.exe - 2052.flash2-http.qq.com:80\n",
      "QQ.exe - qqmail.tencent.com:80\n",
      "QQ.exe - tcpconn.tencent.com:80\n",
      "QQ.exe - tcpconn6.tencent.com:443\n"
     ]
    }
   ],
   "source": [
    "ProxyLogyaml.proxy_events('../../logs/Proxifier_2k.log','proxy','QQinfo')"
   ]
  }
 ],
 "metadata": {
  "interpreter": {
   "hash": "8fa8db45c6341d4c26f24dc8381e2c3c432060d26e2837089ffdef2b93d69026"
  },
  "kernelspec": {
   "display_name": "Python 3.9.10 64-bit (windows store)",
   "language": "python",
   "name": "python3"
  },
  "language_info": {
   "codemirror_mode": {
    "name": "ipython",
    "version": 3
   },
   "file_extension": ".py",
   "mimetype": "text/x-python",
   "name": "python",
   "nbconvert_exporter": "python",
   "pygments_lexer": "ipython3",
   "version": "3.9.10"
  },
  "orig_nbformat": 4
 },
 "nbformat": 4,
 "nbformat_minor": 2
}
