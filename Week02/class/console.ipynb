{
 "cells": [
  {
   "cell_type": "code",
   "execution_count": 24,
   "metadata": {},
   "outputs": [
    {
     "data": {
      "text/plain": [
       "<module 'ApacheLog' from 'c:\\\\Users\\\\chris\\\\Desktop\\\\SYS320\\\\SYS_320_SP22\\\\Week02\\\\class\\\\ApacheLog.py'>"
      ]
     },
     "execution_count": 24,
     "metadata": {},
     "output_type": "execute_result"
    }
   ],
   "source": [
    "import ApacheLog\n",
    "import importlib\n",
    "importlib.reload(ApacheLog)"
   ]
  },
  {
   "cell_type": "markdown",
   "metadata": {},
   "source": [
    "# Review Apache logs"
   ]
  },
  {
   "cell_type": "markdown",
   "metadata": {},
   "source": [
    "### APACHE PHP"
   ]
  },
  {
   "cell_type": "code",
   "execution_count": 25,
   "metadata": {},
   "outputs": [
    {
     "name": "stdout",
     "output_type": "stream",
     "text": [
      "404 GET /wordpress/wp-login.php\n",
      "404 GET /mediawiki/index.php?title=Main_Page\n"
     ]
    }
   ],
   "source": [
    "ApacheLog.apache_events('../../logs/access.log','apache','php')"
   ]
  },
  {
   "cell_type": "markdown",
   "metadata": {},
   "source": [
    "### APACHE CGI"
   ]
  },
  {
   "cell_type": "code",
   "execution_count": 26,
   "metadata": {},
   "outputs": [
    {
     "name": "stdout",
     "output_type": "stream",
     "text": [
      "404 GET /cgi-bin/test-cgi\n",
      "404 GET /cgi-bin/htsearch?Exclude=%60/etc/passwd%60\n",
      "404 POST /cgi-bin/test-cgi\n"
     ]
    }
   ],
   "source": [
    "ApacheLog.apache_events('../../logs/access.log','apache','cgi')"
   ]
  }
 ],
 "metadata": {
  "interpreter": {
   "hash": "8fa8db45c6341d4c26f24dc8381e2c3c432060d26e2837089ffdef2b93d69026"
  },
  "kernelspec": {
   "display_name": "Python 3.9.10 64-bit (windows store)",
   "language": "python",
   "name": "python3"
  },
  "language_info": {
   "codemirror_mode": {
    "name": "ipython",
    "version": 3
   },
   "file_extension": ".py",
   "mimetype": "text/x-python",
   "name": "python",
   "nbconvert_exporter": "python",
   "pygments_lexer": "ipython3",
   "version": "3.9.10"
  },
  "orig_nbformat": 4
 },
 "nbformat": 4,
 "nbformat_minor": 2
}
