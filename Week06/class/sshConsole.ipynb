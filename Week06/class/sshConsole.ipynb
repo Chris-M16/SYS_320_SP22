{
 "cells": [
  {
   "cell_type": "code",
   "execution_count": 1,
   "metadata": {},
   "outputs": [],
   "source": [
    "# Using SSH via Python\n",
    "\n",
    "import paramiko\n",
    "from getpass import getpass\n",
    "\n",
    "# Create the password prompt\n",
    "thePass = getpass(prompt=\"Please enter your SSH password: \")\n",
    "\n",
    "# Host information\n",
    "host = \"10.0.5.90\"\n",
    "port = 22\n",
    "username = \"chris\"\n",
    "password = thePass\n",
    "\n",
    "try:\n",
    "\n",
    "    ssh = paramiko.SSHClient()\n",
    "    ssh.set_missing_host_key_policy(paramiko.AutoAddPolicy())\n",
    "    ssh.connect(host, port, username, password)\n",
    "\n",
    "except paramiko.AuthenticationException:\n",
    "    print(\"Authentication Failed.\")\n"
   ]
  },
  {
   "cell_type": "code",
   "execution_count": 13,
   "metadata": {},
   "outputs": [],
   "source": [
    "# Run a single command\n",
    "#command = \"ps -ef\"\n",
    "\n",
    "# USE \"SUDO -S\" before command to use sudo and the -S will use the password being used to ssh.\n",
    "\n",
    "# Run a list of commands\n",
    "command = ['ps -ef','netstat -an --inet','last -adx','cut -d: -f1 /etc/passwd']\n",
    "\n",
    "for eachCMD in command:\n",
    "    # Get the output from the command\n",
    "    stdin, stdout, stderr = ssh.exec_command(eachCMD)\n",
    "\n",
    "    # Get results from stdout\n",
    "    lines = stdout.readlines()\n",
    "    #print(lines)\n",
    "\n",
    "    # Convert the lsiti to a string\n",
    "    output = ''.join(lines)\n",
    "\n",
    "    # Header\n",
    "    sepHeader = '' + '### BEGIN ' + eachCMD + ' ###\\n\\n'\n",
    "\n",
    "    # Footer\n",
    "    sepFooter = '' + '### END ' + eachCMD + ' ###\\n\\n'\n",
    "\n",
    "    # Concatenate the header, output, and footer\n",
    "    cmd_output = sepHeader + output + sepFooter\n",
    "\n",
    "    # Save the cmd_output to a file\n",
    "    with open('ssh_results.txt', 'a') as f:\n",
    "        f.write(cmd_output)\n",
    "    #print(cmd_output)\n",
    "\n",
    "ssh.close()"
   ]
  },
  {
   "cell_type": "code",
   "execution_count": null,
   "metadata": {},
   "outputs": [],
   "source": []
  }
 ],
 "metadata": {
  "interpreter": {
   "hash": "fb5c8fc0dda72fe3e34dba1ceaeff20bd5610d9d89fea84c1a6da23fee2435b6"
  },
  "kernelspec": {
   "display_name": "Python 3.10.2 64-bit",
   "language": "python",
   "name": "python3"
  },
  "language_info": {
   "codemirror_mode": {
    "name": "ipython",
    "version": 3
   },
   "file_extension": ".py",
   "mimetype": "text/x-python",
   "name": "python",
   "nbconvert_exporter": "python",
   "pygments_lexer": "ipython3",
   "version": "3.10.2"
  },
  "orig_nbformat": 4
 },
 "nbformat": 4,
 "nbformat_minor": 2
}
